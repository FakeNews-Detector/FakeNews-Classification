{
  "nbformat": 4,
  "nbformat_minor": 0,
  "metadata": {
    "colab": {
      "name": "Convert JSON to csv.ipynb",
      "provenance": [],
      "collapsed_sections": []
    },
    "kernelspec": {
      "name": "python3",
      "display_name": "Python 3"
    },
    "language_info": {
      "name": "python"
    }
  },
  "cells": [
    {
      "cell_type": "code",
      "execution_count": null,
      "metadata": {
        "id": "sN7t9Q3BOVkU",
        "colab": {
          "base_uri": "https://localhost:8080/"
        },
        "outputId": "a7f04c75-97e8-465d-d3d5-c6a53927ca89"
      },
      "outputs": [
        {
          "output_type": "stream",
          "name": "stdout",
          "text": [
            "already unzipped\n"
          ]
        }
      ],
      "source": [
        "import pandas as pd\n",
        "import csv\n",
        "import json\n",
        "import glob\n",
        "from zipfile import ZipFile\n",
        "\n",
        "with ZipFile('/content/data/json.zip', 'r') as zipObj:\n",
        "  zipObj.extractall('data json')\n",
        "  print('already unzipped')"
      ]
    },
    {
      "cell_type": "code",
      "source": [
        "import os\n",
        "json_dir = '/content/data json/json'\n",
        "json_pattern = os.path.join(json_dir, '*.json')\n",
        "file_list = glob.glob(json_pattern)\n",
        "\n",
        "dfs = []\n",
        "for file in file_list:\n",
        "  with open(file) as f:\n",
        "    json_data = pd.json_normalize(json.loads(f.read()))\n",
        "    #json_data['site'] = file.rsplit(\"/\", 1)[-1]\n",
        "  dfs.append(json_data)\n",
        "df = pd.concat(dfs)\n",
        "\n",
        "print(df)"
      ],
      "metadata": {
        "colab": {
          "base_uri": "https://localhost:8080/"
        },
        "id": "XUaqO2Putmx8",
        "outputId": "a68fc337-7dbc-4bf8-e0c0-e885f0418529"
      },
      "execution_count": null,
      "outputs": [
        {
          "output_type": "stream",
          "name": "stdout",
          "text": [
            "             sumber     tanggal  kategori  \\\n",
            "0    tribunnews.com  2015/12/09  Otomotif   \n",
            "1    tribunnews.com  2015/12/09  Otomotif   \n",
            "2    tribunnews.com  2015/12/09  Otomotif   \n",
            "3    tribunnews.com  2015/12/09  Otomotif   \n",
            "4    tribunnews.com  2015/12/09  Otomotif   \n",
            "..              ...         ...       ...   \n",
            "510      viva.co.id  2015/10/10      Bola   \n",
            "511      viva.co.id  2015/10/10      Bola   \n",
            "512      viva.co.id  2015/10/10      Bola   \n",
            "513      viva.co.id  2015/10/10      Bola   \n",
            "514      viva.co.id  2015/10/10      Bola   \n",
            "\n",
            "                                                 judul  \\\n",
            "0    Jelang Tutup Tahun, Diler Mobil Sebar Diskon H...   \n",
            "1          Tabir Harga SUV Maserati Dibuka Tahun Depan   \n",
            "2        Tampang Skutik Honda Air Blade Dirombak Total   \n",
            "3    Sinarmas Hana Finance Incar Mobil Bekas Ekspat...   \n",
            "4    Orang Kaya di Indonesia Terintimidasi Harga Ha...   \n",
            "..                                                 ...   \n",
            "510  Tampil di Solo, Arema Bakal Berstatus 'Tuan Ru...   \n",
            "511  Balotelli Gerah Diisukan Kencani Wanita Seksi Ini   \n",
            "512  Bakal Diintimidasi Bobotoh, Bek Mitra Kukar Ta...   \n",
            "513  Anekdot Hobi Aneh Klopp dan Slogan YNWA Liverpool   \n",
            "514  Persib Hadapi Partai Hidup Mati dengan Kekuata...   \n",
            "\n",
            "                                                   isi  \\\n",
            "0    TRIBUNNEWS.COM, JAKARTA  Menjelang tutup tahun...   \n",
            "1    TRIBUNNEWS.COM, BOLOGNA  Sport Utility Vehicle...   \n",
            "2    TRIBUNNWS.COM  Skutik berbadan bongsor dari Ho...   \n",
            "3    TRIBUNNEWS.COM, JAKARTA  PT Sinarmas Hana Fina...   \n",
            "4    TRIBUNNEWS.COM, JAKARTA  Belakangan, harga sep...   \n",
            "..                                                 ...   \n",
            "510  VIVA.co.id - Arema Cronus diprediksi akan mend...   \n",
            "511  VIVA.co.id - Striker AC Milan, Mario Balotelli...   \n",
            "512  VIVA.co.id - Tugas berat akan diemban oleh bek...   \n",
            "513  VIVA.co.id - Lagu \"You'll Never Walk Alone\" at...   \n",
            "514  VIVA.co.id - Persib Bandung akan tampil dengan...   \n",
            "\n",
            "                                                  link  jumlahkata  \n",
            "0    http://www.tribunnews.com/otomotif/2015/12/09/...         205  \n",
            "1    http://www.tribunnews.com/otomotif/2015/12/09/...         132  \n",
            "2    http://www.tribunnews.com/otomotif/2015/12/09/...         299  \n",
            "3    http://www.tribunnews.com/otomotif/2015/12/09/...         161  \n",
            "4    http://www.tribunnews.com/otomotif/2015/12/09/...         233  \n",
            "..                                                 ...         ...  \n",
            "510  http://bola.viva.co.id/news/read/685364-tampil...         238  \n",
            "511  http://bola.viva.co.id/news/read/685304-balote...         226  \n",
            "512  http://bola.viva.co.id/news/read/685359-bakal-...         203  \n",
            "513  http://bola.viva.co.id/news/read/685249-anekdo...         171  \n",
            "514  http://bola.viva.co.id/news/read/685354-persib...         231  \n",
            "\n",
            "[150466 rows x 7 columns]\n"
          ]
        }
      ]
    },
    {
      "cell_type": "code",
      "source": [
        "df.to_csv('valid news.csv')\n",
        "print(df)\n",
        "\n",
        "file = open('/content/valid news.csv')\n",
        "\n",
        "# Buang kolom yang tidak diperlukan\n",
        "df = pd.read_csv(file, usecols = ['judul','link'])\n",
        "print(df)\n",
        "\n",
        "df.to_csv('Valid News.csv')\n",
        "print(df)"
      ],
      "metadata": {
        "id": "IdHL-aqyxEo-"
      },
      "execution_count": null,
      "outputs": []
    }
  ]
}