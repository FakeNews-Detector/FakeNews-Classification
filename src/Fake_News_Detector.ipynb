{
  "cells": [
    {
      "cell_type": "code",
      "execution_count": 12,
      "metadata": {
        "id": "iuV8AfIIxN12",
        "colab": {
          "base_uri": "https://localhost:8080/"
        },
        "outputId": "739a8c42-86b4-4c1d-d79c-b208d70595bc"
      },
      "outputs": [
        {
          "output_type": "stream",
          "name": "stdout",
          "text": [
            "Looking in indexes: https://pypi.org/simple, https://us-python.pkg.dev/colab-wheels/public/simple/\n",
            "Collecting PySastrawi\n",
            "  Downloading PySastrawi-1.2.0-py2.py3-none-any.whl (210 kB)\n",
            "\u001b[K     |████████████████████████████████| 210 kB 5.0 MB/s \n",
            "\u001b[?25hInstalling collected packages: PySastrawi\n",
            "Successfully installed PySastrawi-1.2.0\n"
          ]
        }
      ],
      "source": [
        "!pip install PySastrawi\n",
        "from bs4 import BeautifulSoup\n",
        "import requests\n",
        "import pandas as pd\n",
        "import nltk\n",
        "from nltk.tokenize import word_tokenize\n",
        "from nltk.corpus import stopwords\n",
        "import re\n",
        "import Sastrawi\n",
        "from Sastrawi.Stemmer.StemmerFactory import StemmerFactory\n",
        "import tensorflow as tf\n",
        "import numpy as np\n",
        "import sklearn\n",
        "import gensim\n",
        "from keras_preprocessing.sequence import pad_sequences\n",
        "from nltk.tokenize import word_tokenize\n",
        "from sklearn.model_selection import train_test_split"
      ]
    },
    {
      "cell_type": "markdown",
      "metadata": {
        "id": "2X10McqK9xdP"
      },
      "source": [
        "# Scrapping Data"
      ]
    },
    {
      "cell_type": "code",
      "execution_count": null,
      "metadata": {
        "id": "LvnP4TNTZXxE"
      },
      "outputs": [],
      "source": [
        "#scrapping news\n",
        "import bs4\n",
        "URL = \"https://turnbackhoax.id/category/fitnah-hasut-hoax/page/\"\n",
        "upperframe = []\n",
        "\n",
        "for page in range(1,421):\n",
        "  data = []\n",
        "  req = requests.get(URL + str(page) + \"/\")\n",
        "  soup = BeautifulSoup(req.text, \"html.parser\")\n",
        "\n",
        "  coverpage_news = soup.find_all(\"h3\", attrs = {\"class\" : \"entry-title mh-loop-title\"})\n",
        "  for j in coverpage_news:\n",
        "    judul = j.find(\"a\").get_text().strip()\n",
        "    link = j.find(\"a\")[\"href\"].strip()\n",
        "    data.append([judul, link])\n",
        "  upperframe.extend(data)  "
      ]
    },
    {
      "cell_type": "code",
      "execution_count": null,
      "metadata": {
        "id": "5l1Zgeopd_Tc"
      },
      "outputs": [],
      "source": [
        "#create dataframe for scrapping news\n",
        "data = pd.DataFrame(upperframe, columns=[\"judul\",\"link\"])\n",
        "data.head(10)"
      ]
    },
    {
      "cell_type": "markdown",
      "metadata": {
        "id": "-iMhQehql3hh"
      },
      "source": [
        "## Data Preprocessing"
      ]
    },
    {
      "cell_type": "code",
      "execution_count": null,
      "metadata": {
        "id": "1pd-XFNyZpKB"
      },
      "outputs": [],
      "source": [
        "real_train = pd.read_excel(\"real_train.xlsx\")\n",
        "real_test = pd.read_excel(\"real_testing.xlsx\")\n",
        "fake_train = pd.read_excel(\"fake_train.xlsx\")\n",
        "fake_test = pd.read_excel(\"fake_testing.xlsx\")\n",
        "test = pd.read_csv(\"Data_latih.csv\")"
      ]
    },
    {
      "cell_type": "markdown",
      "metadata": {
        "id": "D_CoLzcHZpKz"
      },
      "source": [
        "Data Training"
      ]
    },
    {
      "cell_type": "code",
      "execution_count": 13,
      "metadata": {
        "colab": {
          "base_uri": "https://localhost:8080/"
        },
        "id": "7V6mDqRkmEQc",
        "outputId": "7f0e008a-3e92-4ab8-fb8a-f99b18ed4717"
      },
      "outputs": [
        {
          "output_type": "stream",
          "name": "stdout",
          "text": [
            "[nltk_data] Downloading package stopwords to /root/nltk_data...\n",
            "[nltk_data]   Unzipping corpora/stopwords.zip.\n"
          ]
        },
        {
          "output_type": "execute_result",
          "data": {
            "text/plain": [
              "True"
            ]
          },
          "metadata": {},
          "execution_count": 13
        }
      ],
      "source": [
        "nltk.download('stopwords')"
      ]
    },
    {
      "cell_type": "code",
      "execution_count": null,
      "metadata": {
        "id": "IpP0sXOhZpK9"
      },
      "outputs": [],
      "source": [
        "real_train[\"label\"] = 0\n",
        "real_test[\"label\"] = 0\n",
        "fake_train[\"label\"] = 1\n",
        "fake_test[\"label\"] = 1"
      ]
    },
    {
      "cell_type": "code",
      "execution_count": null,
      "metadata": {
        "id": "MgsFnUbPZpLE"
      },
      "outputs": [],
      "source": [
        "train = pd.concat([real_train, fake_train], ignore_index=True)\n",
        "validation = pd.concat([real_test, fake_test], ignore_index=True)"
      ]
    },
    {
      "cell_type": "code",
      "execution_count": null,
      "metadata": {
        "id": "fyqaPcCZZpLI"
      },
      "outputs": [],
      "source": [
        "#Preprocessing data training\n",
        "#remove punctuation\n",
        "punc = '''!()-[]{};:'\"\\,<>./?@#$%^&*_~'''\n",
        "def remove_punctuation(text):\n",
        "    no_punct = \"\".join([i for i in text if i not in punc])\n",
        "    return no_punct\n",
        "\n",
        "train['judul'] = train['judul'].apply(lambda x: remove_punctuation(x))\n",
        "\n",
        "#lowering text\n",
        "train['judul'] = train['judul'].apply(lambda x: x.lower())\n",
        "\n",
        "#remove number\n",
        "def remove_number(text):\n",
        "    no_number = re.sub(r'\\d', '', text)\n",
        "    return no_number\n",
        "\n",
        "train['judul'] = train['judul'].apply(lambda x: remove_number(x))\n",
        "\n",
        "#remove emoji\n",
        "train[\"judul\"] = train[\"judul\"].apply(lambda x: x.encode('ascii', 'ignore').decode('ascii'))\n",
        "\n",
        "#remove whitespace\n",
        "# def remove_whitespace(text):\n",
        "#     if len(text.split()) > 1:\n",
        "#         result = ' '.join(text.split())\n",
        "#         return result\n",
        "\n",
        "# df['judul'] = df['judul'].apply(remove_whitespace)\n",
        "# df.head(10)\n",
        "\n",
        "#define stemming\n",
        "factory = StemmerFactory()\n",
        "stemmer = factory.create_stemmer()\n",
        "\n",
        "#define stopwords\n",
        "stopword = stopwords.words('indonesian')\n",
        "stopword.extend([\"c\", \"rp\", \"di\", \"ok\", \"tak\", \"r\", \"x\", \"i\", \"ini\", \"jadi\", \"ada\", \"ke\", \"dan\", \"akan\", \n",
        "\"sang\", \"yang\", \"ada\", \"bagi\", \"untuk\", \"pada\", \"dengan\", \"saat\", \"tidak\", \"nak\", \"tapi\", \"buat\", \"semua\",\n",
        "\"dari\", \"ingin\", \"gara\", \"saat\", \"anak\", \"hey\", \"bro\"])\n",
        "\n",
        "def clean_text(text, stem=False):\n",
        "    tokens = []\n",
        "    for token in text.split():\n",
        "        if token not in stopword:\n",
        "            if stem:\n",
        "                tokens.append(stemmer.stem(token))\n",
        "            else:\n",
        "                tokens.append(token)\n",
        "    return tokens\n",
        "\n",
        "train['judul_baru'] = train['judul'].apply(lambda x: clean_text(x))\n",
        "train.head(10)"
      ]
    },
    {
      "cell_type": "markdown",
      "metadata": {
        "id": "pzdGrrL6ZpMM"
      },
      "source": [
        "Data validation"
      ]
    },
    {
      "cell_type": "code",
      "execution_count": null,
      "metadata": {
        "id": "19XuRS4-ZpMR"
      },
      "outputs": [],
      "source": [
        "#remove punctuation\n",
        "punc = '''!()-[]{};:'\"\\,<>./?@#$%^&*_~'''\n",
        "def remove_punctuation(text):\n",
        "    no_punct = \"\".join([i for i in text if i not in punc])\n",
        "    return no_punct\n",
        "\n",
        "validation['judul'] = validation['judul'].apply(lambda x: remove_punctuation(x))\n",
        "\n",
        "#lowering text\n",
        "validation['judul'] = validation['judul'].apply(lambda x: x.lower())\n",
        "\n",
        "#remove number\n",
        "def remove_number(text):\n",
        "    no_number = re.sub(r'\\d', '', text)\n",
        "    return no_number\n",
        "\n",
        "validation['judul'] = validation['judul'].apply(lambda x: remove_number(x))\n",
        "\n",
        "#remove emoji\n",
        "validation[\"judul\"] = validation[\"judul\"].apply(lambda x: x.encode('ascii', 'ignore').decode('ascii'))\n",
        "\n",
        "#define stemming\n",
        "factory = StemmerFactory()\n",
        "stemmer = factory.create_stemmer()\n",
        "\n",
        "#define stopwords\n",
        "stopword = stopwords.words('indonesian')\n",
        "stopword.extend([\"c\", \"rp\", \"di\", \"ok\", \"tak\", \"r\", \"x\", \"i\", \"ini\", \"jadi\", \"ada\", \"ke\", \"dan\", \"akan\", \n",
        "\"sang\", \"yang\", \"ada\", \"bagi\", \"untuk\", \"pada\", \"dengan\", \"saat\", \"tidak\", \"nak\", \"tapi\", \"buat\", \"semua\",\n",
        "\"dari\", \"ingin\", \"gara\", \"saat\", \"anak\", \"hey\", \"bro\"])\n",
        "\n",
        "def clean_text(text, stem=False):\n",
        "    tokens = []\n",
        "    for token in text.split():\n",
        "        if token not in stopword:\n",
        "            if stem:\n",
        "                tokens.append(stemmer.stem(token))\n",
        "            else:\n",
        "                tokens.append(token)\n",
        "    return tokens\n",
        "\n",
        "validation['judul_baru'] = validation['judul'].apply(lambda x: clean_text(x))\n",
        "\n",
        "validation.head(10)"
      ]
    },
    {
      "cell_type": "code",
      "execution_count": null,
      "metadata": {
        "id": "NUXip0RwZpN6"
      },
      "outputs": [],
      "source": [
        "# data testing\n",
        "#remove punctuation\n",
        "punc = '''!()-[]{};:'\"\\,<>./?@#$%^&*_~'''\n",
        "def remove_punctuation(text):\n",
        "    no_punct = \"\".join([i for i in text if i not in punc])\n",
        "    return no_punct\n",
        "\n",
        "test['judul'] = test['judul'].apply(lambda x: remove_punctuation(x))\n",
        "\n",
        "#lowering text\n",
        "test['judul'] = test['judul'].apply(lambda x: x.lower())\n",
        "\n",
        "#remove number\n",
        "def remove_number(text):\n",
        "    no_number = re.sub(r'\\d', '', text)\n",
        "    return no_number\n",
        "\n",
        "test['judul'] = test['judul'].apply(lambda x: remove_number(x))\n",
        "\n",
        "#remove emoji\n",
        "test[\"judul\"] = test[\"judul\"].apply(lambda x: x.encode('ascii', 'ignore').decode('ascii'))\n",
        "\n",
        "#define stemming\n",
        "factory = StemmerFactory()\n",
        "stemmer = factory.create_stemmer()\n",
        "\n",
        "#define stopwords\n",
        "stopword = stopwords.words('indonesian')\n",
        "stopword.extend([\"c\", \"rp\", \"di\", \"ok\", \"tak\", \"r\", \"x\", \"i\", \"ini\", \"jadi\", \"ada\", \"ke\", \"dan\", \"akan\", \n",
        "\"sang\", \"yang\", \"ada\", \"bagi\", \"untuk\", \"pada\", \"dengan\", \"saat\", \"tidak\", \"nak\", \"tapi\", \"buat\", \"semua\",\n",
        "\"dari\", \"ingin\", \"gara\", \"saat\", \"anak\", \"hey\", \"bro\"])\n",
        "\n",
        "def clean_text(text, stem=False):\n",
        "    tokens = []\n",
        "    for token in text.split():\n",
        "        if token not in stopword:\n",
        "            if stem:\n",
        "                tokens.append(stemmer.stem(token))\n",
        "            else:\n",
        "                tokens.append(token)\n",
        "    return tokens\n",
        "\n",
        "test['judul_baru'] = test['judul'].apply(lambda x: clean_text(x))\n",
        "\n",
        "test.head(10)"
      ]
    },
    {
      "cell_type": "markdown",
      "metadata": {
        "id": "TNRB_Ot12i-H"
      },
      "source": [
        "# Build and Training Model (LSTM)"
      ]
    },
    {
      "cell_type": "code",
      "source": [
        "len(train)\n",
        "len(validation)\n",
        "len(test)"
      ],
      "metadata": {
        "colab": {
          "base_uri": "https://localhost:8080/"
        },
        "id": "36bzSE-KdlBP",
        "outputId": "2d316527-edee-4ed0-cd32-14bc75838c58"
      },
      "execution_count": null,
      "outputs": [
        {
          "output_type": "execute_result",
          "data": {
            "text/plain": [
              "4231"
            ]
          },
          "metadata": {},
          "execution_count": 56
        }
      ]
    },
    {
      "cell_type": "code",
      "execution_count": null,
      "metadata": {
        "id": "GVYhwqUeZpOC"
      },
      "outputs": [],
      "source": [
        "train_sentences = train[\"judul_baru\"].tolist()\n",
        "validation_sentences = validation[\"judul_baru\"].tolist()\n",
        "test_sentences = test[\"judul_baru\"].tolist()"
      ]
    },
    {
      "cell_type": "code",
      "execution_count": 7,
      "metadata": {
        "id": "PaYk9uZ_ZpOG"
      },
      "outputs": [],
      "source": [
        "vocab_size = 2000\n",
        "embedding_dim = 16\n",
        "max_length = 100\n",
        "trunc_type = \"post\"\n",
        "padding_type = \"post\"\n",
        "oov_tok = \"<OOV>\""
      ]
    },
    {
      "cell_type": "code",
      "execution_count": 10,
      "metadata": {
        "id": "DlfFa8F5ZpOL",
        "colab": {
          "base_uri": "https://localhost:8080/",
          "height": 217
        },
        "outputId": "8d966b19-a39c-4bb9-a923-0bdaa2956ac8"
      },
      "outputs": [
        {
          "output_type": "error",
          "ename": "NameError",
          "evalue": "ignored",
          "traceback": [
            "\u001b[0;31m---------------------------------------------------------------------------\u001b[0m",
            "\u001b[0;31mNameError\u001b[0m                                 Traceback (most recent call last)",
            "\u001b[0;32m<ipython-input-10-17ab616704d6>\u001b[0m in \u001b[0;36m<module>\u001b[0;34m()\u001b[0m\n\u001b[1;32m      1\u001b[0m \u001b[0;32mfrom\u001b[0m \u001b[0mtensorflow\u001b[0m\u001b[0;34m.\u001b[0m\u001b[0mkeras\u001b[0m\u001b[0;34m.\u001b[0m\u001b[0mpreprocessing\u001b[0m\u001b[0;34m.\u001b[0m\u001b[0mtext\u001b[0m \u001b[0;32mimport\u001b[0m \u001b[0mTokenizer\u001b[0m\u001b[0;34m\u001b[0m\u001b[0;34m\u001b[0m\u001b[0m\n\u001b[1;32m      2\u001b[0m \u001b[0mtokenizer\u001b[0m \u001b[0;34m=\u001b[0m \u001b[0mTokenizer\u001b[0m\u001b[0;34m(\u001b[0m\u001b[0mnum_words\u001b[0m \u001b[0;34m=\u001b[0m \u001b[0mvocab_size\u001b[0m\u001b[0;34m,\u001b[0m \u001b[0moov_token\u001b[0m \u001b[0;34m=\u001b[0m \u001b[0moov_tok\u001b[0m\u001b[0;34m)\u001b[0m\u001b[0;34m\u001b[0m\u001b[0;34m\u001b[0m\u001b[0m\n\u001b[0;32m----> 3\u001b[0;31m \u001b[0mtokenizer\u001b[0m\u001b[0;34m.\u001b[0m\u001b[0mfit_on_texts\u001b[0m\u001b[0;34m(\u001b[0m\u001b[0mtrain_sentences\u001b[0m\u001b[0;34m)\u001b[0m\u001b[0;34m\u001b[0m\u001b[0;34m\u001b[0m\u001b[0m\n\u001b[0m\u001b[1;32m      4\u001b[0m \u001b[0mword_index\u001b[0m \u001b[0;34m=\u001b[0m \u001b[0mtokenizer\u001b[0m\u001b[0;34m.\u001b[0m\u001b[0mword_index\u001b[0m\u001b[0;34m\u001b[0m\u001b[0;34m\u001b[0m\u001b[0m\n",
            "\u001b[0;31mNameError\u001b[0m: name 'train_sentences' is not defined"
          ]
        }
      ],
      "source": [
        "from tensorflow.keras.preprocessing.text import Tokenizer\n",
        "tokenizer = Tokenizer(num_words = vocab_size, oov_token = oov_tok)\n",
        "tokenizer.fit_on_texts(train_sentences)\n",
        "word_index = tokenizer.word_index"
      ]
    },
    {
      "cell_type": "code",
      "execution_count": null,
      "metadata": {
        "id": "7G8pjj7zZpOQ"
      },
      "outputs": [],
      "source": [
        "from keras_preprocessing.sequence import pad_sequences\n",
        "train_sequences = tokenizer.texts_to_sequences(train_sentences)\n",
        "training_padded = pad_sequences(train_sequences, maxlen = max_length)"
      ]
    },
    {
      "cell_type": "code",
      "execution_count": null,
      "metadata": {
        "id": "XCKDgqaaZpOU"
      },
      "outputs": [],
      "source": [
        "val_sequences = tokenizer.texts_to_sequences(validation_sentences)\n",
        "validation_padded = pad_sequences(val_sequences, maxlen = max_length)"
      ]
    },
    {
      "cell_type": "code",
      "source": [
        "test_sequences = tokenizer.texts_to_sequences(test_sentences)\n",
        "testing_padded = pad_sequences(test_sequences, maxlen = max_length)"
      ],
      "metadata": {
        "id": "ZGT2U3ionRv0"
      },
      "execution_count": null,
      "outputs": []
    },
    {
      "cell_type": "code",
      "execution_count": null,
      "metadata": {
        "id": "YXhzLRzVZpOW"
      },
      "outputs": [],
      "source": [
        "model = tf.keras.models.Sequential()\n",
        "model.add(tf.keras.layers.Embedding(vocab_size, embedding_dim, input_length=max_length))\n",
        "model.add(tf.keras.layers.Dropout(0.2))\n",
        "model.add(tf.keras.layers.Bidirectional(tf.keras.layers.LSTM(units=128)))\n",
        "model.add(tf.keras.layers.Dense(1, activation=\"sigmoid\"))"
      ]
    },
    {
      "cell_type": "code",
      "execution_count": null,
      "metadata": {
        "colab": {
          "base_uri": "https://localhost:8080/"
        },
        "id": "tpBHv8qsZpOe",
        "outputId": "08992e0b-3745-4b69-80f1-efe6713aa92c"
      },
      "outputs": [
        {
          "output_type": "stream",
          "name": "stdout",
          "text": [
            "Model: \"sequential_10\"\n",
            "_________________________________________________________________\n",
            " Layer (type)                Output Shape              Param #   \n",
            "=================================================================\n",
            " embedding_10 (Embedding)    (None, 100, 16)           32000     \n",
            "                                                                 \n",
            " dropout_4 (Dropout)         (None, 100, 16)           0         \n",
            "                                                                 \n",
            " bidirectional_10 (Bidirecti  (None, 256)              148480    \n",
            " onal)                                                           \n",
            "                                                                 \n",
            " dense_19 (Dense)            (None, 1)                 257       \n",
            "                                                                 \n",
            "=================================================================\n",
            "Total params: 180,737\n",
            "Trainable params: 180,737\n",
            "Non-trainable params: 0\n",
            "_________________________________________________________________\n"
          ]
        }
      ],
      "source": [
        "model.summary()"
      ]
    },
    {
      "cell_type": "code",
      "execution_count": null,
      "metadata": {
        "id": "N3D_WAwZZpOl"
      },
      "outputs": [],
      "source": [
        "model.compile(optimizer=\"adam\", loss=\"binary_crossentropy\", metrics=['accuracy'])"
      ]
    },
    {
      "cell_type": "code",
      "execution_count": null,
      "metadata": {
        "colab": {
          "base_uri": "https://localhost:8080/"
        },
        "id": "detZFPF2ZpOn",
        "outputId": "66b3a862-5f39-47cc-b663-a17b99c28263"
      },
      "outputs": [
        {
          "output_type": "stream",
          "name": "stdout",
          "text": [
            "Epoch 1/5\n",
            "420/420 [==============================] - 11s 19ms/step - loss: 0.4555 - accuracy: 0.7781 - val_loss: 0.4504 - val_accuracy: 0.7749\n",
            "Epoch 2/5\n",
            "420/420 [==============================] - 7s 17ms/step - loss: 0.2293 - accuracy: 0.9031 - val_loss: 0.4246 - val_accuracy: 0.8002\n",
            "Epoch 3/5\n",
            "420/420 [==============================] - 7s 17ms/step - loss: 0.2178 - accuracy: 0.9092 - val_loss: 0.4550 - val_accuracy: 0.8035\n",
            "Epoch 4/5\n",
            "420/420 [==============================] - 7s 16ms/step - loss: 0.2067 - accuracy: 0.9211 - val_loss: 0.4726 - val_accuracy: 0.7964\n",
            "Epoch 5/5\n",
            "420/420 [==============================] - 7s 16ms/step - loss: 0.1628 - accuracy: 0.9320 - val_loss: 0.4600 - val_accuracy: 0.8056\n"
          ]
        }
      ],
      "source": [
        "history = model.fit(training_padded, train[\"label\"], validation_data=(validation_padded, validation[\"label\"]), epochs=5)"
      ]
    },
    {
      "cell_type": "code",
      "execution_count": null,
      "metadata": {
        "id": "rDYJdRf7ZpO1"
      },
      "outputs": [],
      "source": [
        "model.save(\"lstm_model.h5\")"
      ]
    },
    {
      "cell_type": "code",
      "execution_count": null,
      "metadata": {
        "id": "RaUONtufZpPA"
      },
      "outputs": [],
      "source": [
        "model.save_weights(\"lstm_weights.h5\")"
      ]
    },
    {
      "cell_type": "markdown",
      "source": [
        "Training history"
      ],
      "metadata": {
        "id": "N0_ADF8RpHpW"
      }
    },
    {
      "cell_type": "code",
      "execution_count": null,
      "metadata": {
        "colab": {
          "base_uri": "https://localhost:8080/",
          "height": 295
        },
        "id": "zzlk_pOQjH_U",
        "outputId": "38fc050f-fad2-4b44-f398-18f8b20132df"
      },
      "outputs": [
        {
          "output_type": "display_data",
          "data": {
            "text/plain": [
              "<Figure size 432x288 with 1 Axes>"
            ],
            "image/png": "[encoded data removed]"
          },
          "metadata": {
            "needs_background": "light"
          }
        }
      ],
      "source": [
        "# History training\n",
        "\n",
        "import matplotlib.pyplot as plt\n",
        "\n",
        "#Summary acc\n",
        "plt.plot(history.history['accuracy'])\n",
        "plt.plot(history.history['val_accuracy'])\n",
        "plt.title('model accuracy')\n",
        "plt.ylabel('accuracy')\n",
        "plt.xlabel('epoch')\n",
        "plt.legend(['train', 'val'], loc='upper left')\n",
        "plt.show()\n",
        "\n"
      ]
    },
    {
      "cell_type": "code",
      "execution_count": null,
      "metadata": {
        "colab": {
          "base_uri": "https://localhost:8080/",
          "height": 295
        },
        "id": "zqVI2j6zk9-b",
        "outputId": "6a365a8f-20e6-42f8-93ad-6bea2986d6ff"
      },
      "outputs": [
        {
          "output_type": "display_data",
          "data": {
            "text/plain": [
              "<Figure size 432x288 with 1 Axes>"
            ],
            "image/png": "[encoded data removed]"
          },
          "metadata": {
            "needs_background": "light"
          }
        }
      ],
      "source": [
        "# summmary loss\n",
        "plt.plot(history.history['loss'])\n",
        "plt.plot(history.history['val_loss'])\n",
        "plt.title('model loss')\n",
        "plt.ylabel('loss')\n",
        "plt.xlabel('epoch')\n",
        "plt.legend(['train', 'val'], loc='upper left')\n",
        "plt.show()"
      ]
    },
    {
      "cell_type": "markdown",
      "source": [
        "## Model evaluation and prediction"
      ],
      "metadata": {
        "id": "Io5YoHklyWWs"
      }
    },
    {
      "cell_type": "code",
      "source": [
        "train_acc = model.evaluate(training_padded, train[\"label\"])\n",
        "val_acc = model.evaluate(validation_padded, validation[\"label\"])\n",
        "test_acc = model.evaluate(testing_padded, test[\"label\"])\n",
        "\n",
        "print(\"train acc: \", train_acc)\n",
        "print(\"val acc: \", val_acc)\n",
        "print(\"test acc: \", test_acc)"
      ],
      "metadata": {
        "colab": {
          "base_uri": "https://localhost:8080/"
        },
        "id": "zRXnlN2vgJ-K",
        "outputId": "a0baddac-798e-46f5-dccb-b0804dc88abb"
      },
      "execution_count": null,
      "outputs": [
        {
          "output_type": "stream",
          "name": "stdout",
          "text": [
            "420/420 [==============================] - 4s 9ms/step - loss: 0.1338 - accuracy: 0.9490\n",
            "105/105 [==============================] - 1s 7ms/step - loss: 0.4600 - accuracy: 0.8056\n",
            "133/133 [==============================] - 1s 7ms/step - loss: 0.7907 - accuracy: 0.7464\n",
            "train acc:  [0.13378798961639404, 0.9490388631820679]\n",
            "val acc:  [0.4599795937538147, 0.8056052327156067]\n",
            "test acc:  [0.7906951308250427, 0.7463956475257874]\n"
          ]
        }
      ]
    },
    {
      "cell_type": "code",
      "source": [
        "from tensorflow import keras\n",
        "import tensorflow as tf\n",
        "import numpy as np\n",
        "from tensorflow.keras.preprocessing.text import Tokenizer\n",
        "model = keras.models.load_model(\"lstm_model.h5\")\n",
        "model.load_weights(\"lstm_weights.h5\")"
      ],
      "metadata": {
        "id": "SZLS8522nyma"
      },
      "execution_count": 5,
      "outputs": []
    },
    {
      "cell_type": "code",
      "source": [
        "# preprocess\n",
        "#remove punctuation\n",
        "punc = '''!()-[]{};:'\"\\,<>./?@#$%^&*_~'''\n",
        "def remove_punctuation(text):\n",
        "    no_punct = \"\".join([i for i in text if i not in punc])\n",
        "    return no_punct\n",
        "\n",
        "\n",
        "#remove number\n",
        "def remove_number(text):\n",
        "    no_number = re.sub(r'\\d', '', text)\n",
        "    return no_number\n",
        "\n",
        "\n",
        "#define stemming\n",
        "\n",
        "factory = StemmerFactory()\n",
        "stemmer = factory.create_stemmer()\n",
        "\n",
        "#define stopwords\n",
        "stopword = stopwords.words('indonesian')\n",
        "stopword.extend([\"c\", \"rp\", \"di\", \"ok\", \"tak\", \"r\", \"x\", \"i\", \"ini\", \"jadi\", \"ada\", \"ke\", \"dan\", \"akan\", \n",
        "\"sang\", \"yang\", \"ada\", \"bagi\", \"untuk\", \"pada\", \"dengan\", \"saat\", \"tidak\", \"nak\", \"tapi\", \"buat\", \"semua\",\n",
        "\"dari\", \"ingin\", \"gara\", \"saat\", \"anak\", \"hey\", \"bro\"])\n",
        "\n",
        "def clean_text(text, stem=False):\n",
        "    tokens = []\n",
        "    for token in text.split():\n",
        "        if token not in stopword:\n",
        "            if stem:\n",
        "                tokens.append(stemmer.stem(token))\n",
        "            else:\n",
        "                tokens.append(token)\n",
        "    return tokens"
      ],
      "metadata": {
        "id": "7DjUZyMrrUej"
      },
      "execution_count": 14,
      "outputs": []
    },
    {
      "cell_type": "code",
      "source": [
        "\n",
        "#predict on new text\n",
        "def new_predict(text, model):\n",
        "  text = text.lower()\n",
        "  text = remove_punctuation(text)\n",
        "  text = remove_number(text)\n",
        "  text = clean_text(text)\n",
        "  tokenizer = Tokenizer(num_words = vocab_size, oov_token = oov_tok)\n",
        "  tokenizer.fit_on_texts(text)\n",
        "  pred = tokenizer.texts_to_sequences(text)\n",
        "  prediction = model.predict(pred)\n",
        "  avg_pred = prediction.mean()\n",
        "  if avg_pred > 0.5:\n",
        "    text_label = 'Hoax'\n",
        "  else:\n",
        "    text_label = 'Valid'\n",
        "  return text_label, avg_pred\n"
      ],
      "metadata": {
        "id": "xvEwuqymqTgO"
      },
      "execution_count": 19,
      "outputs": []
    },
    {
      "cell_type": "code",
      "source": [
        "# prediction example\n",
        "import csv\n",
        "import pandas as pd\n",
        "fake_test = pd.read_csv(\"Data_latih.csv\")\n",
        "text = fake_test['judul'][0]\n",
        "print(text)\n",
        "text_label, avg_pred = new_predict(text, model)\n",
        "print()\n",
        "print('-------Prediction result--------')\n",
        "print('probability of this news is being fake: ', avg_pred)\n",
        "print('so this news is',text_label.upper())"
      ],
      "metadata": {
        "colab": {
          "base_uri": "https://localhost:8080/"
        },
        "id": "86oiVou7on_p",
        "outputId": "0141587e-b22e-43a0-9e3d-2ce3c35b6b26"
      },
      "execution_count": 69,
      "outputs": [
        {
          "output_type": "stream",
          "name": "stdout",
          "text": [
            "Pemakaian Masker Menyebabkan Penyakit Legionnaires\n",
            "\n",
            "-------Prediction result--------\n",
            "probability of this news is being fake:  0.8058345\n",
            "so this news is HOAX\n"
          ]
        }
      ]
    }
  ],
  "metadata": {
    "accelerator": "GPU",
    "colab": {
      "collapsed_sections": [],
      "name": "Fake_News_Detector.ipynb",
      "provenance": []
    },
    "interpreter": {
      "hash": "27f6fea6f47ae512550f0b8facdbd035a93e1dd89633f7bf2dd00a2502c71d0d"
    },
    "kernelspec": {
      "display_name": "Python 3.10.4 64-bit",
      "language": "python",
      "name": "python3"
    },
    "language_info": {
      "codemirror_mode": {
        "name": "ipython",
        "version": 3
      },
      "file_extension": ".py",
      "mimetype": "text/x-python",
      "name": "python",
      "nbconvert_exporter": "python",
      "pygments_lexer": "ipython3",
      "version": "3.10.4"
    }
  },
  "nbformat": 4,
  "nbformat_minor": 0
}